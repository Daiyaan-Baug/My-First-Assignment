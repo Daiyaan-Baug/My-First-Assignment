{
 "cells": [
  {
   "cell_type": "markdown",
   "id": "7a5d674d-b200-460c-b76a-acc9024ad1e0",
   "metadata": {},
   "source": [
    "# Data Science Tools and Ecosystem"
   ]
  },
  {
   "cell_type": "markdown",
   "id": "b72dee8c-d60e-4d55-a6c5-59b59a3f08e5",
   "metadata": {},
   "source": [
    "## In this notebook, Data Science Tools and Ecosystem are summarized."
   ]
  },
  {
   "cell_type": "markdown",
   "id": "b0fd08c1-b898-4fc0-81a6-fc075886638b",
   "metadata": {},
   "source": [
    "**Objectives:**\n",
    "- List of popular Data Science Languages\n",
    "- List of common Data Science Library\n",
    "- List of Arithmatic Operations"
   ]
  },
  {
   "cell_type": "markdown",
   "id": "b13c99dd-1497-463b-8252-d71e9afffb69",
   "metadata": {},
   "source": [
    "### Some of the popular languages that Data Scientists use are:\n",
    "\n",
    "1. Python\n",
    "2. R\n",
    "3. Java"
   ]
  },
  {
   "cell_type": "markdown",
   "id": "197a0ef6-a8f1-4f22-894d-bda643997e8f",
   "metadata": {},
   "source": [
    "### Some of the commonly used libraries used by Data Scientists include:\n",
    "\n",
    "1. Matplotlib\n",
    "2. NumPy\n",
    "3. Pandas"
   ]
  },
  {
   "cell_type": "markdown",
   "id": "6f5a544d-376c-44d4-9af3-d390e25926e5",
   "metadata": {},
   "source": [
    "|Data Science Tools|\n",
    "|------------------|\n",
    "|Jupyter Notebook|\n",
    "|Visual Studio|\n",
    "|Apache Spark|"
   ]
  },
  {
   "cell_type": "markdown",
   "id": "fedc1f05-971d-403f-905e-e4c007d94b6e",
   "metadata": {},
   "source": [
    "### Below are a few examples of evaluating arithmetic expressions in Python"
   ]
  },
  {
   "cell_type": "code",
   "execution_count": 18,
   "id": "7270c2bc-b805-4045-8998-11ea8c294eb6",
   "metadata": {
    "tags": []
   },
   "outputs": [
    {
     "data": {
      "text/plain": [
       "17"
      ]
     },
     "execution_count": 18,
     "metadata": {},
     "output_type": "execute_result"
    }
   ],
   "source": [
    "# This a simple arithmetic expression to mutiply then add integers\n",
    "\n",
    "(3*4)+5"
   ]
  },
  {
   "cell_type": "code",
   "execution_count": 26,
   "id": "c3ceb279-81eb-49fa-bc0a-16bf4d3735eb",
   "metadata": {
    "tags": []
   },
   "outputs": [
    {
     "name": "stdout",
     "output_type": "stream",
     "text": [
      "200 minutes converts to 3.3333333333333335 hours\n"
     ]
    }
   ],
   "source": [
    "# This will convert 200 minutes to hours by diving by 60\n",
    "\n",
    "a = 200/60\n",
    "print(\"200 minutes converts to\",a,\"hours\")"
   ]
  },
  {
   "cell_type": "markdown",
   "id": "77cd56fb-4cec-4542-bd25-ec0bea5e8c7f",
   "metadata": {},
   "source": [
    "## Author\n",
    "\n",
    "Daiyaan Baug"
   ]
  },
  {
   "cell_type": "code",
   "execution_count": null,
   "id": "4867ca29-3049-4514-92a6-c3816946074d",
   "metadata": {},
   "outputs": [],
   "source": []
  }
 ],
 "metadata": {
  "kernelspec": {
   "display_name": "Python 3 (ipykernel)",
   "language": "python",
   "name": "python3"
  },
  "language_info": {
   "codemirror_mode": {
    "name": "ipython",
    "version": 3
   },
   "file_extension": ".py",
   "mimetype": "text/x-python",
   "name": "python",
   "nbconvert_exporter": "python",
   "pygments_lexer": "ipython3",
   "version": "3.11.7"
  }
 },
 "nbformat": 4,
 "nbformat_minor": 5
}
